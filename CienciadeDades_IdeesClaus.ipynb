{
 "cells": [
  {
   "cell_type": "markdown",
   "metadata": {},
   "source": [
    "# Ciencia de Dades"
   ]
  },
  {
   "cell_type": "markdown",
   "metadata": {},
   "source": [
    "## Jupyter Notebook\n",
    "\n",
    "- En aquest primer mòdul, hem après els conceptes bàsics de la ciència de dades i les seves aplicacions més rellevants. Ara sabem que la informació codificada en forma de dades es pot depurar i netejar, i podem trobar patrons per tal de generar coneixement aplicat. Els camps on més es fa servir la ciència de dades són el món empresarial i la recerca en general.\n",
    "\n",
    "- L’aprenentatge automàtic és la capacitat d’una màquina de millorar els seus pronòstics, localitzant patrons amb un major grau de certesa, a mesura que aquesta màquina va gestionant més dades. Hi ha dos tipus de models:\n",
    "\n",
    "  - Model de regressió. Serveix per calcular un valor determinat, és a dir, un número.\n",
    "  - Model de classificació. Serveix per respondre a un qüestió en només dues opcions (binomi) o amb més de dues opcions (multinominal).\n",
    " \n",
    "\n",
    "- Jupyter Notebook és una plataforma gratuïta i de font oberta molt popular per desenvolupar projectes de ciència de dades. Aquesta aplicació té tres seccions: la barra de menú, la barra d’eines i la secció de les cel·les. Pel que fa a les cel·les, podem diferenciar-ne, principalment, dos tipus: un correspon al codi i l’altre al text. Quan necessitem picar codi, escollirem el primer i, quan necessitem escriure text, farem servir el segon. Això ens permet escriure codi i afegir  explicacions escrites i rellevants sobre aquest, i presentar-ho tot en el mateix document.\n",
    "\n",
    "- Jupyter Notebook permet afegir i eliminar cel·les fàcilment. Les cel·les noves es poden col·locar allà on més ens convingui. L’aplicació també ens permet visualitzar la nostra feina mitjançant una previsualització i, fins i tot, exportar el fitxer a HTML, per tal que es pugui penjar en un web."
   ]
  },
  {
   "cell_type": "markdown",
   "metadata": {},
   "source": [
    "## MODELS PREDICTIUS\n",
    "\n",
    "- Models                         \n",
    "\n",
    "- Random forest             Classificació\n",
    "- Lineal regression         Regressió\n",
    "- KNN                       Regressió i classificació\n",
    "- Boosted Tree              Regressió i classificació\n",
    "- Gradient Boosted Machines Regressió i classificació"
   ]
  },
  {
   "cell_type": "markdown",
   "metadata": {},
   "source": [
    "## Idees clau: Exploració inicial a les dades\n",
    "- El més important abans de començar a fer servir cap model és entendre les dades que tractem, detectar els errors més comuns, identificar les cel·les sense dades i els valors allunyats. És una feina essencial trobar-los i netejar-los. Altrament, aquests afectarien negativament la qualitat dels models. Per tal de fer una exploració inicial de les dades, hem après a fer ús de funcions bàsiques com ara són head() i describe()\n",
    "\n",
    "- Tenim dos tipus bàsics de model predictiu: el de regressió i el de classificació. El primer recull aquells models que procuren predir valors numèrics quantitatius, mentre que els models que formen part del segon tipus es fan servir quan el resultat és un valor qualitatiu.\n",
    "\n",
    "- Tots els models necessiten que una part de la taula es faci servir per a l’entrenament. L’altra part restant es pot fer servir per mesurar si les prediccions dels models són prou bones o no. En els models de regressió lineal, el paràmetre de qualitat és el coeficient de regressió, mentre que, per a un model de classificació, és l’accuracy."
   ]
  },
  {
   "cell_type": "markdown",
   "metadata": {},
   "source": [
    "## Idees clau: Visualització de dades amb Marplotlib\n",
    "- En aquest apartat, hem après a extreure informació de les dades mitjançant representacions gràfiques, les quals ens ajuden a visualitzar tendències i patrons amb només un cop d’ull.\n",
    "\n",
    "- Concretament, hem treballat amb gràfics de línia, de barra i de dispersió.\n",
    "\n",
    "- Els gràfics de línia mostren una línia continua que enllaça tots els punts que relacionen els valors de l’eix x i el valor de l’eix y corresponents.\n",
    "\n",
    "- Els gràfics de barres són aquells que utilitzen barres, les quals representen l’altura que té un punt respecte l’eix x.\n",
    "\n",
    "- Els gràfics de dispersió mostren els punts i les coordenades formades pel valor en l’eix x i el valor en l’eix y corresponent.\n",
    "\n",
    "- Per tal de construir els diferents tipus de gràfics, hem treballat amb funcions dels mòduls Matplotlip.pyplot i Seaborn.\n",
    "\n",
    "- El mòdul Pyplot proporciona funcions molt útils per generar els diferents gràfics. Per treballar amb gràfics de línia, farem servir plot(), de barra bar() i de dispersió scatter(). Aquestes funcions incorporen diferents paràmetres per configurar els gràfics. Per exemple, xlabel() dona nom a l’eix x, ylabel() a l’eix y, title() serveix per posar un títol, color() proporciona el color, linewidth() l’amplada de la línia, etc."
   ]
  },
  {
   "cell_type": "markdown",
   "metadata": {},
   "source": [
    "## Idees clau: Anàlisis de dades amb Panda\n",
    "- En aquest mòdul hem après a treballar amb bases de dades i hem vist com poden ser de potents, si sabem com aplicar-hi diverses accions destinades a l’anàlisi de dades.\n",
    "\n",
    "- Hem començat a construir-ne una des de zero, fent ús de la classe DataFrame. Després, hem vist com llegir i modificar bases de dades, tot accedint a les seves posicions.\n",
    "\n",
    "- Aplicant els operadors iloc[] i loc[], podem crear bases de dades més petites, partint d’una base de dades principal.\n",
    "\n",
    "- També hem après a seleccionar files, depenent d’una determinada condició, o més d’una, fet que ens permet filtrar la base de dades en relació amb els diferents valors que poden tenir els atributs o variables.\n",
    "\n",
    "- Podem agrupar bases de dades entorn als valors d’una o més variables. Una vegada hem agrupat aquests valors, és possible aplicar diferents funcions com, per exemple, la mitjana, el nombre de casos o les desviacions d’aquestes agrupacions."
   ]
  }
 ],
 "metadata": {
  "kernelspec": {
   "display_name": "Python 3",
   "language": "python",
   "name": "python3"
  },
  "language_info": {
   "codemirror_mode": {
    "name": "ipython",
    "version": 3
   },
   "file_extension": ".py",
   "mimetype": "text/x-python",
   "name": "python",
   "nbconvert_exporter": "python",
   "pygments_lexer": "ipython3",
   "version": "3.8.5"
  }
 },
 "nbformat": 4,
 "nbformat_minor": 4
}
